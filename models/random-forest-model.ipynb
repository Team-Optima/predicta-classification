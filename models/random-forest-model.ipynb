{
 "cells": [
  {
   "cell_type": "code",
   "execution_count": 2,
   "metadata": {},
   "outputs": [],
   "source": [
    "import pandas as pd  # type: ignore\n",
    "import matplotlib.pyplot as plt  # type: ignore\n",
    "import numpy as np  # type: ignore"
   ]
  },
  {
   "cell_type": "code",
   "execution_count": 8,
   "metadata": {},
   "outputs": [
    {
     "name": "stdout",
     "output_type": "stream",
     "text": [
      "   temperature_celsius  condition_text  wind_kph  wind_degree  pressure_mb  \\\n",
      "0              0.46875               0       0.0     0.016854     0.470588   \n",
      "\n",
      "   precip_mm  humidity  cloud  feels_like_celsius  visibility_km  uv_index  \\\n",
      "0   0.229592       1.0   0.75            0.371257       0.308176       0.0   \n",
      "\n",
      "   gust_kph  air_quality_us-epa-index  sunrise_num  sunset_num  \n",
      "0  0.187697                       0.0     0.302469    0.527638  \n"
     ]
    }
   ],
   "source": [
    "df = pd.read_csv('./../processed_data/filtered_data_with_classes.csv')\n",
    "print(df.head(1))"
   ]
  },
  {
   "cell_type": "code",
   "execution_count": 9,
   "metadata": {},
   "outputs": [
    {
     "data": {
      "text/html": [
       "<div>\n",
       "<style scoped>\n",
       "    .dataframe tbody tr th:only-of-type {\n",
       "        vertical-align: middle;\n",
       "    }\n",
       "\n",
       "    .dataframe tbody tr th {\n",
       "        vertical-align: top;\n",
       "    }\n",
       "\n",
       "    .dataframe thead th {\n",
       "        text-align: right;\n",
       "    }\n",
       "</style>\n",
       "<table border=\"1\" class=\"dataframe\">\n",
       "  <thead>\n",
       "    <tr style=\"text-align: right;\">\n",
       "      <th></th>\n",
       "      <th>temperature_celsius</th>\n",
       "      <th>condition_text</th>\n",
       "      <th>wind_kph</th>\n",
       "      <th>wind_degree</th>\n",
       "      <th>pressure_mb</th>\n",
       "      <th>precip_mm</th>\n",
       "      <th>humidity</th>\n",
       "      <th>cloud</th>\n",
       "      <th>feels_like_celsius</th>\n",
       "      <th>visibility_km</th>\n",
       "      <th>uv_index</th>\n",
       "      <th>gust_kph</th>\n",
       "      <th>air_quality_us-epa-index</th>\n",
       "      <th>sunrise_num</th>\n",
       "      <th>sunset_num</th>\n",
       "    </tr>\n",
       "  </thead>\n",
       "  <tbody>\n",
       "    <tr>\n",
       "      <th>0</th>\n",
       "      <td>0.46875</td>\n",
       "      <td>0</td>\n",
       "      <td>0.000000</td>\n",
       "      <td>0.016854</td>\n",
       "      <td>0.470588</td>\n",
       "      <td>0.229592</td>\n",
       "      <td>1.00000</td>\n",
       "      <td>0.75</td>\n",
       "      <td>0.371257</td>\n",
       "      <td>0.308176</td>\n",
       "      <td>0.0</td>\n",
       "      <td>0.187697</td>\n",
       "      <td>0.0</td>\n",
       "      <td>0.302469</td>\n",
       "      <td>0.527638</td>\n",
       "    </tr>\n",
       "    <tr>\n",
       "      <th>1</th>\n",
       "      <td>0.37500</td>\n",
       "      <td>1</td>\n",
       "      <td>0.045126</td>\n",
       "      <td>0.410112</td>\n",
       "      <td>0.676471</td>\n",
       "      <td>0.000000</td>\n",
       "      <td>0.87500</td>\n",
       "      <td>0.00</td>\n",
       "      <td>0.311377</td>\n",
       "      <td>0.308176</td>\n",
       "      <td>0.0</td>\n",
       "      <td>0.165615</td>\n",
       "      <td>0.0</td>\n",
       "      <td>0.308642</td>\n",
       "      <td>0.517588</td>\n",
       "    </tr>\n",
       "    <tr>\n",
       "      <th>2</th>\n",
       "      <td>0.50000</td>\n",
       "      <td>2</td>\n",
       "      <td>0.007220</td>\n",
       "      <td>0.859551</td>\n",
       "      <td>0.588235</td>\n",
       "      <td>0.000000</td>\n",
       "      <td>1.00000</td>\n",
       "      <td>0.50</td>\n",
       "      <td>0.391218</td>\n",
       "      <td>0.308176</td>\n",
       "      <td>0.0</td>\n",
       "      <td>0.227129</td>\n",
       "      <td>0.2</td>\n",
       "      <td>0.320988</td>\n",
       "      <td>0.492462</td>\n",
       "    </tr>\n",
       "    <tr>\n",
       "      <th>3</th>\n",
       "      <td>0.43750</td>\n",
       "      <td>1</td>\n",
       "      <td>0.000000</td>\n",
       "      <td>0.168539</td>\n",
       "      <td>0.647059</td>\n",
       "      <td>0.000000</td>\n",
       "      <td>0.87500</td>\n",
       "      <td>0.00</td>\n",
       "      <td>0.351297</td>\n",
       "      <td>0.308176</td>\n",
       "      <td>0.0</td>\n",
       "      <td>0.119874</td>\n",
       "      <td>0.4</td>\n",
       "      <td>0.395062</td>\n",
       "      <td>0.391960</td>\n",
       "    </tr>\n",
       "    <tr>\n",
       "      <th>4</th>\n",
       "      <td>0.43750</td>\n",
       "      <td>2</td>\n",
       "      <td>0.000000</td>\n",
       "      <td>0.221910</td>\n",
       "      <td>0.441176</td>\n",
       "      <td>0.000000</td>\n",
       "      <td>0.71875</td>\n",
       "      <td>0.25</td>\n",
       "      <td>0.351297</td>\n",
       "      <td>0.308176</td>\n",
       "      <td>0.0</td>\n",
       "      <td>0.119874</td>\n",
       "      <td>0.0</td>\n",
       "      <td>0.376543</td>\n",
       "      <td>0.537688</td>\n",
       "    </tr>\n",
       "  </tbody>\n",
       "</table>\n",
       "</div>"
      ],
      "text/plain": [
       "   temperature_celsius  condition_text  wind_kph  wind_degree  pressure_mb  \\\n",
       "0              0.46875               0  0.000000     0.016854     0.470588   \n",
       "1              0.37500               1  0.045126     0.410112     0.676471   \n",
       "2              0.50000               2  0.007220     0.859551     0.588235   \n",
       "3              0.43750               1  0.000000     0.168539     0.647059   \n",
       "4              0.43750               2  0.000000     0.221910     0.441176   \n",
       "\n",
       "   precip_mm  humidity  cloud  feels_like_celsius  visibility_km  uv_index  \\\n",
       "0   0.229592   1.00000   0.75            0.371257       0.308176       0.0   \n",
       "1   0.000000   0.87500   0.00            0.311377       0.308176       0.0   \n",
       "2   0.000000   1.00000   0.50            0.391218       0.308176       0.0   \n",
       "3   0.000000   0.87500   0.00            0.351297       0.308176       0.0   \n",
       "4   0.000000   0.71875   0.25            0.351297       0.308176       0.0   \n",
       "\n",
       "   gust_kph  air_quality_us-epa-index  sunrise_num  sunset_num  \n",
       "0  0.187697                       0.0     0.302469    0.527638  \n",
       "1  0.165615                       0.0     0.308642    0.517588  \n",
       "2  0.227129                       0.2     0.320988    0.492462  \n",
       "3  0.119874                       0.4     0.395062    0.391960  \n",
       "4  0.119874                       0.0     0.376543    0.537688  "
      ]
     },
     "execution_count": 9,
     "metadata": {},
     "output_type": "execute_result"
    }
   ],
   "source": [
    "df.head(5)"
   ]
  },
  {
   "cell_type": "code",
   "execution_count": 12,
   "metadata": {},
   "outputs": [],
   "source": [
    "from sklearn.model_selection import train_test_split # type: ignore\n",
    "from sklearn.ensemble import RandomForestClassifier  # type: ignore\n",
    "from sklearn.metrics import accuracy_score  # type: ignore\n",
    "from sklearn.preprocessing import LabelEncoder  # type: ignore"
   ]
  },
  {
   "cell_type": "code",
   "execution_count": 13,
   "metadata": {},
   "outputs": [],
   "source": [
    "# Encoding categorical variables (if 'condition_text' is categorical)\n",
    "label_encoder = LabelEncoder()\n",
    "df['condition_text'] = label_encoder.fit_transform(df['condition_text'])\n",
    "\n",
    "# Separating features and target variable\n",
    "X = df.drop('condition_text', axis=1)  # Features\n",
    "y = df['condition_text']  # Target\n",
    "\n",
    "# Step 2: Split data into training and test sets\n",
    "X_train, X_test, y_train, y_test = train_test_split(\n",
    "    X, y, test_size=0.2, random_state=42)"
   ]
  },
  {
   "cell_type": "code",
   "execution_count": 14,
   "metadata": {},
   "outputs": [
    {
     "name": "stdout",
     "output_type": "stream",
     "text": [
      "Accuracy: 0.72\n"
     ]
    }
   ],
   "source": [
    "# Step 3: Create and train the model\n",
    "model = RandomForestClassifier(n_estimators=100, random_state=42, )\n",
    "model.fit(X_train, y_train)\n",
    "\n",
    "# Step 4: Evaluate the model\n",
    "y_pred = model.predict(X_test)\n",
    "accuracy = accuracy_score(y_test, y_pred)\n",
    "print(f'Accuracy: {accuracy:.4f}')"
   ]
  },
  {
   "cell_type": "code",
   "execution_count": 15,
   "metadata": {},
   "outputs": [
    {
     "name": "stdout",
     "output_type": "stream",
     "text": [
      "{'bootstrap': True, 'ccp_alpha': 0.0, 'class_weight': None, 'criterion': 'gini', 'max_depth': None, 'max_features': 'sqrt', 'max_leaf_nodes': None, 'max_samples': None, 'min_impurity_decrease': 0.0, 'min_samples_leaf': 1, 'min_samples_split': 2, 'min_weight_fraction_leaf': 0.0, 'monotonic_cst': None, 'n_estimators': 100, 'n_jobs': None, 'oob_score': False, 'random_state': 42, 'verbose': 0, 'warm_start': False}\n"
     ]
    }
   ],
   "source": [
    "params = model.get_params()\n",
    "print(params)"
   ]
  },
  {
   "cell_type": "code",
   "execution_count": 17,
   "metadata": {},
   "outputs": [
    {
     "name": "stdout",
     "output_type": "stream",
     "text": [
      "Fitting 5 folds for each of 192 candidates, totalling 960 fits\n",
      "Best parameters: {'max_depth': None, 'min_samples_leaf': 1, 'min_samples_split': 10, 'n_estimators': 200}\n",
      "Improved Accuracy: 0.69\n"
     ]
    }
   ],
   "source": [
    "from sklearn.model_selection import GridSearchCV # type: ignore\n",
    "\n",
    "# the parameter grid\n",
    "param_grid = {\n",
    "    'n_estimators': [50, 100, 200],\n",
    "    'max_depth': [None, 10, 20, 30],\n",
    "    'min_samples_split': [2, 5, 10, 20],\n",
    "    'min_samples_leaf': [1, 2, 4, 8]\n",
    "}\n",
    "\n",
    "# Initialize the GridSearchCV object\n",
    "grid_search = GridSearchCV(estimator=RandomForestClassifier(\n",
    "    random_state=42), param_grid=param_grid, cv=5, n_jobs=-1, verbose=3, scoring='accuracy')\n",
    "\n",
    "# Fit the model\n",
    "grid_search.fit(X_train, y_train)\n",
    "\n",
    "# Best parameters\n",
    "print(\"Best parameters:\", grid_search.best_params_)\n",
    "\n",
    "# Evaluate the best model\n",
    "best_model = grid_search.best_estimator_\n",
    "y_pred = best_model.predict(X_test)\n",
    "accuracy = accuracy_score(y_test, y_pred)\n",
    "print(f'Improved Accuracy: {accuracy:.4f}')"
   ]
  },
  {
   "cell_type": "code",
   "execution_count": 18,
   "metadata": {},
   "outputs": [
    {
     "name": "stdout",
     "output_type": "stream",
     "text": [
      "Rank 1: Combination 105\n",
      "Parameters: {'max_depth': 20, 'min_samples_leaf': 1, 'min_samples_split': 10, 'n_estimators': 200}\n",
      "Mean Test Score (Accuracy): 0.7155\n",
      "\n",
      "Rank 2: Combination 9\n",
      "Parameters: {'max_depth': None, 'min_samples_leaf': 1, 'min_samples_split': 10, 'n_estimators': 200}\n",
      "Mean Test Score (Accuracy): 0.7155\n",
      "\n",
      "Rank 3: Combination 153\n",
      "Parameters: {'max_depth': 30, 'min_samples_leaf': 1, 'min_samples_split': 10, 'n_estimators': 200}\n",
      "Mean Test Score (Accuracy): 0.7155\n",
      "\n",
      "Rank 4: Combination 57\n",
      "Parameters: {'max_depth': 10, 'min_samples_leaf': 1, 'min_samples_split': 10, 'n_estimators': 200}\n",
      "Mean Test Score (Accuracy): 0.7129\n",
      "\n",
      "Rank 5: Combination 53\n",
      "Parameters: {'max_depth': 10, 'min_samples_leaf': 1, 'min_samples_split': 5, 'n_estimators': 100}\n",
      "Mean Test Score (Accuracy): 0.7129\n",
      "\n"
     ]
    }
   ],
   "source": [
    "# Accessing the cv_results_\n",
    "cv_results = grid_search.cv_results_\n",
    "# Sorting the combinations based on mean test score in descending order\n",
    "sorted_indices = cv_results['mean_test_score'].argsort()[::-1]\n",
    "\n",
    "# Iterating through the top 5 combinations and printing their details\n",
    "for rank, index in enumerate(sorted_indices[:5], start=1):\n",
    "    print(f\"Rank {rank}: Combination {index + 1}\")\n",
    "    print(f\"Parameters: {cv_results['params'][index]}\")\n",
    "    print(f\"Mean Test Score (Accuracy): {cv_results['mean_test_score'][index]:.4f}\\n\")"
   ]
  },
  {
   "cell_type": "code",
   "execution_count": null,
   "metadata": {},
   "outputs": [],
   "source": [
    "model = RandomForestClassifier(n_estimators=200, max_depth=20, min_samples_split=10,\n",
    "                               min_samples_leaf=1, random_state=42)\n",
    "model.fit(X_train, y_train)\n",
    "\n",
    "# Evaluate the model\n",
    "y_pred = model.predict(X_test)\n",
    "accuracy = accuracy_score(y_test, y_pred)\n",
    "print(f'Accuracy: {accuracy:.4f}')"
   ]
  },
  {
   "cell_type": "markdown",
   "metadata": {},
   "source": []
  }
 ],
 "metadata": {
  "kernelspec": {
   "display_name": "Python 3",
   "language": "python",
   "name": "python3"
  },
  "language_info": {
   "codemirror_mode": {
    "name": "ipython",
    "version": 3
   },
   "file_extension": ".py",
   "mimetype": "text/x-python",
   "name": "python",
   "nbconvert_exporter": "python",
   "pygments_lexer": "ipython3",
   "version": "3.12.1"
  }
 },
 "nbformat": 4,
 "nbformat_minor": 2
}
