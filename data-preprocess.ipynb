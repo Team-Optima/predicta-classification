{
 "cells": [
  {
   "cell_type": "code",
   "execution_count": 4,
   "metadata": {},
   "outputs": [],
   "source": [
    "import pandas as pd\n",
    "import matplotlib.pyplot as plt\n",
    "from sklearn.preprocessing import MinMaxScaler\n",
    "import numpy as np"
   ]
  },
  {
   "cell_type": "code",
   "execution_count": 5,
   "metadata": {},
   "outputs": [
    {
     "name": "stdout",
     "output_type": "stream",
     "text": [
      "  day_id city_id  temperature_celsius condition_text  wind_kph  wind_degree  \\\n",
      "0  D0001    C001                 27.0            NaN       6.1          210   \n",
      "\n",
      "   pressure_mb  precip_mm  humidity  cloud  feels_like_celsius  visibility_km  \\\n",
      "0       1006.0        0.0        54     75                28.0           10.0   \n",
      "\n",
      "   uv_index  gust_kph  air_quality_us-epa-index   sunrise    sunset  \n",
      "0       6.0      11.9                         2  06:04 AM  07:19 PM  \n"
     ]
    }
   ],
   "source": [
    "df = pd.read_csv('./data/daily_data.csv')\n",
    "print(df.head(1))"
   ]
  },
  {
   "cell_type": "code",
   "execution_count": 6,
   "metadata": {},
   "outputs": [
    {
     "name": "stdout",
     "output_type": "stream",
     "text": [
      "       temperature_celsius  wind_kph  wind_degree  pressure_mb  precip_mm  \\\n",
      "count              2893.00   2893.00      2893.00      2893.00    2893.00   \n",
      "mean                 22.02     10.30       158.99      1013.75       0.17   \n",
      "std                   6.62      7.26       103.02         6.17       0.94   \n",
      "min                  -2.00      3.60         1.00       982.00       0.00   \n",
      "25%                  17.00      5.00        70.00      1010.00       0.00   \n",
      "50%                  22.00      8.30       150.00      1014.00       0.00   \n",
      "75%                  27.00     13.00       236.00      1018.00       0.00   \n",
      "max                  45.00     74.20       360.00      1036.00      28.70   \n",
      "\n",
      "       humidity    cloud  feels_like_celsius  visibility_km  uv_index  \\\n",
      "count   2893.00  2893.00             2893.00        2893.00   2893.00   \n",
      "mean      74.77    32.07               23.73           9.75      2.22   \n",
      "std       19.34    32.58                8.88           2.49      2.24   \n",
      "min        4.00     0.00               -4.30           0.00      1.00   \n",
      "25%       66.00     0.00               17.00          10.00      1.00   \n",
      "50%       78.00    25.00               24.50          10.00      1.00   \n",
      "75%       89.00    68.00               30.00          10.00      1.00   \n",
      "max      100.00   100.00               73.60          32.00     10.00   \n",
      "\n",
      "       gust_kph  air_quality_us-epa-index  \n",
      "count   2893.00                   2893.00  \n",
      "mean      16.93                      1.60  \n",
      "std       10.54                      1.06  \n",
      "min        0.70                      1.00  \n",
      "25%        9.00                      1.00  \n",
      "50%       15.10                      1.00  \n",
      "75%       22.30                      2.00  \n",
      "max       75.60                      6.00  \n"
     ]
    }
   ],
   "source": [
    "print(df.describe().round(2))"
   ]
  },
  {
   "cell_type": "code",
   "execution_count": 7,
   "metadata": {},
   "outputs": [
    {
     "data": {
      "text/html": [
       "<div>\n",
       "<style scoped>\n",
       "    .dataframe tbody tr th:only-of-type {\n",
       "        vertical-align: middle;\n",
       "    }\n",
       "\n",
       "    .dataframe tbody tr th {\n",
       "        vertical-align: top;\n",
       "    }\n",
       "\n",
       "    .dataframe thead th {\n",
       "        text-align: right;\n",
       "    }\n",
       "</style>\n",
       "<table border=\"1\" class=\"dataframe\">\n",
       "  <thead>\n",
       "    <tr style=\"text-align: right;\">\n",
       "      <th></th>\n",
       "      <th>temperature_celsius</th>\n",
       "      <th>wind_kph</th>\n",
       "      <th>wind_degree</th>\n",
       "      <th>pressure_mb</th>\n",
       "      <th>precip_mm</th>\n",
       "      <th>humidity</th>\n",
       "      <th>cloud</th>\n",
       "      <th>feels_like_celsius</th>\n",
       "      <th>visibility_km</th>\n",
       "      <th>uv_index</th>\n",
       "      <th>gust_kph</th>\n",
       "      <th>air_quality_us-epa-index</th>\n",
       "    </tr>\n",
       "  </thead>\n",
       "  <tbody>\n",
       "    <tr>\n",
       "      <th>count</th>\n",
       "      <td>2893.000000</td>\n",
       "      <td>2893.000000</td>\n",
       "      <td>2893.000000</td>\n",
       "      <td>2893.000000</td>\n",
       "      <td>2893.000000</td>\n",
       "      <td>2893.000000</td>\n",
       "      <td>2893.000000</td>\n",
       "      <td>2893.000000</td>\n",
       "      <td>2893.000000</td>\n",
       "      <td>2893.000000</td>\n",
       "      <td>2893.000000</td>\n",
       "      <td>2893.000000</td>\n",
       "    </tr>\n",
       "    <tr>\n",
       "      <th>mean</th>\n",
       "      <td>22.024577</td>\n",
       "      <td>10.304805</td>\n",
       "      <td>158.994469</td>\n",
       "      <td>1013.745938</td>\n",
       "      <td>0.165299</td>\n",
       "      <td>74.773591</td>\n",
       "      <td>32.073280</td>\n",
       "      <td>23.725752</td>\n",
       "      <td>9.745524</td>\n",
       "      <td>2.216730</td>\n",
       "      <td>16.930522</td>\n",
       "      <td>1.599032</td>\n",
       "    </tr>\n",
       "    <tr>\n",
       "      <th>std</th>\n",
       "      <td>6.615540</td>\n",
       "      <td>7.264472</td>\n",
       "      <td>103.021634</td>\n",
       "      <td>6.172045</td>\n",
       "      <td>0.937061</td>\n",
       "      <td>19.335724</td>\n",
       "      <td>32.584184</td>\n",
       "      <td>8.877424</td>\n",
       "      <td>2.489918</td>\n",
       "      <td>2.238163</td>\n",
       "      <td>10.541449</td>\n",
       "      <td>1.062513</td>\n",
       "    </tr>\n",
       "    <tr>\n",
       "      <th>min</th>\n",
       "      <td>-2.000000</td>\n",
       "      <td>3.600000</td>\n",
       "      <td>1.000000</td>\n",
       "      <td>982.000000</td>\n",
       "      <td>0.000000</td>\n",
       "      <td>4.000000</td>\n",
       "      <td>0.000000</td>\n",
       "      <td>-4.300000</td>\n",
       "      <td>0.000000</td>\n",
       "      <td>1.000000</td>\n",
       "      <td>0.700000</td>\n",
       "      <td>1.000000</td>\n",
       "    </tr>\n",
       "    <tr>\n",
       "      <th>25%</th>\n",
       "      <td>17.000000</td>\n",
       "      <td>5.000000</td>\n",
       "      <td>70.000000</td>\n",
       "      <td>1010.000000</td>\n",
       "      <td>0.000000</td>\n",
       "      <td>66.000000</td>\n",
       "      <td>0.000000</td>\n",
       "      <td>17.000000</td>\n",
       "      <td>10.000000</td>\n",
       "      <td>1.000000</td>\n",
       "      <td>9.000000</td>\n",
       "      <td>1.000000</td>\n",
       "    </tr>\n",
       "    <tr>\n",
       "      <th>50%</th>\n",
       "      <td>22.000000</td>\n",
       "      <td>8.300000</td>\n",
       "      <td>150.000000</td>\n",
       "      <td>1014.000000</td>\n",
       "      <td>0.000000</td>\n",
       "      <td>78.000000</td>\n",
       "      <td>25.000000</td>\n",
       "      <td>24.500000</td>\n",
       "      <td>10.000000</td>\n",
       "      <td>1.000000</td>\n",
       "      <td>15.100000</td>\n",
       "      <td>1.000000</td>\n",
       "    </tr>\n",
       "    <tr>\n",
       "      <th>75%</th>\n",
       "      <td>27.000000</td>\n",
       "      <td>13.000000</td>\n",
       "      <td>236.000000</td>\n",
       "      <td>1018.000000</td>\n",
       "      <td>0.000000</td>\n",
       "      <td>89.000000</td>\n",
       "      <td>68.000000</td>\n",
       "      <td>30.000000</td>\n",
       "      <td>10.000000</td>\n",
       "      <td>1.000000</td>\n",
       "      <td>22.300000</td>\n",
       "      <td>2.000000</td>\n",
       "    </tr>\n",
       "    <tr>\n",
       "      <th>max</th>\n",
       "      <td>45.000000</td>\n",
       "      <td>74.200000</td>\n",
       "      <td>360.000000</td>\n",
       "      <td>1036.000000</td>\n",
       "      <td>28.700000</td>\n",
       "      <td>100.000000</td>\n",
       "      <td>100.000000</td>\n",
       "      <td>73.600000</td>\n",
       "      <td>32.000000</td>\n",
       "      <td>10.000000</td>\n",
       "      <td>75.600000</td>\n",
       "      <td>6.000000</td>\n",
       "    </tr>\n",
       "  </tbody>\n",
       "</table>\n",
       "</div>"
      ],
      "text/plain": [
       "       temperature_celsius     wind_kph  wind_degree  pressure_mb  \\\n",
       "count          2893.000000  2893.000000  2893.000000  2893.000000   \n",
       "mean             22.024577    10.304805   158.994469  1013.745938   \n",
       "std               6.615540     7.264472   103.021634     6.172045   \n",
       "min              -2.000000     3.600000     1.000000   982.000000   \n",
       "25%              17.000000     5.000000    70.000000  1010.000000   \n",
       "50%              22.000000     8.300000   150.000000  1014.000000   \n",
       "75%              27.000000    13.000000   236.000000  1018.000000   \n",
       "max              45.000000    74.200000   360.000000  1036.000000   \n",
       "\n",
       "         precip_mm     humidity        cloud  feels_like_celsius  \\\n",
       "count  2893.000000  2893.000000  2893.000000         2893.000000   \n",
       "mean      0.165299    74.773591    32.073280           23.725752   \n",
       "std       0.937061    19.335724    32.584184            8.877424   \n",
       "min       0.000000     4.000000     0.000000           -4.300000   \n",
       "25%       0.000000    66.000000     0.000000           17.000000   \n",
       "50%       0.000000    78.000000    25.000000           24.500000   \n",
       "75%       0.000000    89.000000    68.000000           30.000000   \n",
       "max      28.700000   100.000000   100.000000           73.600000   \n",
       "\n",
       "       visibility_km     uv_index     gust_kph  air_quality_us-epa-index  \n",
       "count    2893.000000  2893.000000  2893.000000               2893.000000  \n",
       "mean        9.745524     2.216730    16.930522                  1.599032  \n",
       "std         2.489918     2.238163    10.541449                  1.062513  \n",
       "min         0.000000     1.000000     0.700000                  1.000000  \n",
       "25%        10.000000     1.000000     9.000000                  1.000000  \n",
       "50%        10.000000     1.000000    15.100000                  1.000000  \n",
       "75%        10.000000     1.000000    22.300000                  2.000000  \n",
       "max        32.000000    10.000000    75.600000                  6.000000  "
      ]
     },
     "execution_count": 7,
     "metadata": {},
     "output_type": "execute_result"
    }
   ],
   "source": [
    "df.describe()"
   ]
  },
  {
   "cell_type": "code",
   "execution_count": 8,
   "metadata": {},
   "outputs": [
    {
     "data": {
      "text/plain": [
       "day_id                      2893\n",
       "city_id                     2893\n",
       "temperature_celsius         2893\n",
       "condition_text               479\n",
       "wind_kph                    2893\n",
       "wind_degree                 2893\n",
       "pressure_mb                 2893\n",
       "precip_mm                   2893\n",
       "humidity                    2893\n",
       "cloud                       2893\n",
       "feels_like_celsius          2893\n",
       "visibility_km               2893\n",
       "uv_index                    2893\n",
       "gust_kph                    2893\n",
       "air_quality_us-epa-index    2893\n",
       "sunrise                     2893\n",
       "sunset                      2893\n",
       "dtype: int64"
      ]
     },
     "execution_count": 8,
     "metadata": {},
     "output_type": "execute_result"
    }
   ],
   "source": [
    "df.count()"
   ]
  },
  {
   "cell_type": "code",
   "execution_count": 25,
   "metadata": {},
   "outputs": [
    {
     "data": {
      "text/plain": [
       "day_id                      479\n",
       "city_id                     479\n",
       "temperature_celsius         479\n",
       "condition_text              479\n",
       "wind_kph                    479\n",
       "wind_degree                 479\n",
       "pressure_mb                 479\n",
       "precip_mm                   479\n",
       "humidity                    479\n",
       "cloud                       479\n",
       "feels_like_celsius          479\n",
       "visibility_km               479\n",
       "uv_index                    479\n",
       "gust_kph                    479\n",
       "air_quality_us-epa-index    479\n",
       "sunrise                     479\n",
       "sunset                      479\n",
       "dtype: int64"
      ]
     },
     "execution_count": 25,
     "metadata": {},
     "output_type": "execute_result"
    }
   ],
   "source": [
    "# Filter records with non-empty 'condition_text'\n",
    "df_filtered = df.dropna(subset=['condition_text'])\n",
    "df_filtered.count()"
   ]
  },
  {
   "cell_type": "code",
   "execution_count": 26,
   "metadata": {},
   "outputs": [
    {
     "data": {
      "text/plain": [
       "day_id                       object\n",
       "city_id                      object\n",
       "temperature_celsius         float64\n",
       "condition_text               object\n",
       "wind_kph                    float64\n",
       "wind_degree                   int64\n",
       "pressure_mb                 float64\n",
       "precip_mm                   float64\n",
       "humidity                      int64\n",
       "cloud                         int64\n",
       "feels_like_celsius          float64\n",
       "visibility_km               float64\n",
       "uv_index                    float64\n",
       "gust_kph                    float64\n",
       "air_quality_us-epa-index      int64\n",
       "sunrise                      object\n",
       "sunset                       object\n",
       "dtype: object"
      ]
     },
     "execution_count": 26,
     "metadata": {},
     "output_type": "execute_result"
    }
   ],
   "source": [
    "df_filtered.head(1)\n",
    "df_filtered.dtypes"
   ]
  },
  {
   "cell_type": "code",
   "execution_count": 27,
   "metadata": {},
   "outputs": [
    {
     "name": "stderr",
     "output_type": "stream",
     "text": [
      "C:\\Users\\Panamgama\\AppData\\Local\\Temp\\ipykernel_13992\\1557865019.py:10: SettingWithCopyWarning: \n",
      "A value is trying to be set on a copy of a slice from a DataFrame.\n",
      "Try using .loc[row_indexer,col_indexer] = value instead\n",
      "\n",
      "See the caveats in the documentation: https://pandas.pydata.org/pandas-docs/stable/user_guide/indexing.html#returning-a-view-versus-a-copy\n",
      "  df_filtered.loc[:, 'sunrise_num'] = time_to_minutes(\n",
      "C:\\Users\\Panamgama\\AppData\\Local\\Temp\\ipykernel_13992\\1557865019.py:12: SettingWithCopyWarning: \n",
      "A value is trying to be set on a copy of a slice from a DataFrame.\n",
      "Try using .loc[row_indexer,col_indexer] = value instead\n",
      "\n",
      "See the caveats in the documentation: https://pandas.pydata.org/pandas-docs/stable/user_guide/indexing.html#returning-a-view-versus-a-copy\n",
      "  df_filtered.loc[:, 'sunset_num'] = time_to_minutes(\n"
     ]
    }
   ],
   "source": [
    "# Function to convert time to minutes past midnight\n",
    "def time_to_minutes(time_series):\n",
    "    # Convert to datetime\n",
    "    time_dt = pd.to_datetime(time_series, format='%I:%M %p')\n",
    "    # Calculate minutes past midnight\n",
    "    minutes = time_dt.dt.hour * 60 + time_dt.dt.minute\n",
    "    return minutes.values\n",
    "\n",
    "\n",
    "df_filtered.loc[:, 'sunrise_num'] = time_to_minutes(\n",
    "    df_filtered['sunrise']).astype(int)\n",
    "df_filtered.loc[:, 'sunset_num'] = time_to_minutes(\n",
    "    df_filtered['sunset']).astype(int)"
   ]
  },
  {
   "cell_type": "code",
   "execution_count": 28,
   "metadata": {},
   "outputs": [
    {
     "data": {
      "text/html": [
       "<div>\n",
       "<style scoped>\n",
       "    .dataframe tbody tr th:only-of-type {\n",
       "        vertical-align: middle;\n",
       "    }\n",
       "\n",
       "    .dataframe tbody tr th {\n",
       "        vertical-align: top;\n",
       "    }\n",
       "\n",
       "    .dataframe thead th {\n",
       "        text-align: right;\n",
       "    }\n",
       "</style>\n",
       "<table border=\"1\" class=\"dataframe\">\n",
       "  <thead>\n",
       "    <tr style=\"text-align: right;\">\n",
       "      <th></th>\n",
       "      <th>day_id</th>\n",
       "      <th>city_id</th>\n",
       "      <th>temperature_celsius</th>\n",
       "      <th>condition_text</th>\n",
       "      <th>wind_kph</th>\n",
       "      <th>wind_degree</th>\n",
       "      <th>pressure_mb</th>\n",
       "      <th>precip_mm</th>\n",
       "      <th>humidity</th>\n",
       "      <th>cloud</th>\n",
       "      <th>feels_like_celsius</th>\n",
       "      <th>visibility_km</th>\n",
       "      <th>uv_index</th>\n",
       "      <th>gust_kph</th>\n",
       "      <th>air_quality_us-epa-index</th>\n",
       "      <th>sunrise</th>\n",
       "      <th>sunset</th>\n",
       "      <th>sunrise_num</th>\n",
       "      <th>sunset_num</th>\n",
       "    </tr>\n",
       "  </thead>\n",
       "  <tbody>\n",
       "    <tr>\n",
       "      <th>2</th>\n",
       "      <td>D0003</td>\n",
       "      <td>C001</td>\n",
       "      <td>20.0</td>\n",
       "      <td>Light Rain with Thunder</td>\n",
       "      <td>3.6</td>\n",
       "      <td>10</td>\n",
       "      <td>1011.0</td>\n",
       "      <td>4.5</td>\n",
       "      <td>100</td>\n",
       "      <td>75</td>\n",
       "      <td>20.0</td>\n",
       "      <td>10.0</td>\n",
       "      <td>1.0</td>\n",
       "      <td>12.6</td>\n",
       "      <td>1</td>\n",
       "      <td>06:05 AM</td>\n",
       "      <td>07:18 PM</td>\n",
       "      <td>365</td>\n",
       "      <td>1158</td>\n",
       "    </tr>\n",
       "  </tbody>\n",
       "</table>\n",
       "</div>"
      ],
      "text/plain": [
       "  day_id city_id  temperature_celsius           condition_text  wind_kph  \\\n",
       "2  D0003    C001                 20.0  Light Rain with Thunder       3.6   \n",
       "\n",
       "   wind_degree  pressure_mb  precip_mm  humidity  cloud  feels_like_celsius  \\\n",
       "2           10       1011.0        4.5       100     75                20.0   \n",
       "\n",
       "   visibility_km  uv_index  gust_kph  air_quality_us-epa-index   sunrise  \\\n",
       "2           10.0       1.0      12.6                         1  06:05 AM   \n",
       "\n",
       "     sunset  sunrise_num  sunset_num  \n",
       "2  07:18 PM          365        1158  "
      ]
     },
     "execution_count": 28,
     "metadata": {},
     "output_type": "execute_result"
    }
   ],
   "source": [
    "df_filtered.head(1)"
   ]
  },
  {
   "cell_type": "code",
   "execution_count": 29,
   "metadata": {},
   "outputs": [
    {
     "data": {
      "text/plain": [
       "day_id                       object\n",
       "city_id                      object\n",
       "temperature_celsius         float64\n",
       "condition_text               object\n",
       "wind_kph                    float64\n",
       "wind_degree                   int64\n",
       "pressure_mb                 float64\n",
       "precip_mm                   float64\n",
       "humidity                      int64\n",
       "cloud                         int64\n",
       "feels_like_celsius          float64\n",
       "visibility_km               float64\n",
       "uv_index                    float64\n",
       "gust_kph                    float64\n",
       "air_quality_us-epa-index      int64\n",
       "sunrise                      object\n",
       "sunset                       object\n",
       "sunrise_num                   int32\n",
       "sunset_num                    int32\n",
       "dtype: object"
      ]
     },
     "execution_count": 29,
     "metadata": {},
     "output_type": "execute_result"
    }
   ],
   "source": [
    "df_filtered.dtypes"
   ]
  },
  {
   "cell_type": "code",
   "execution_count": 30,
   "metadata": {},
   "outputs": [],
   "source": [
    "scaler = MinMaxScaler()\n",
    "numeric_cols = df_filtered.select_dtypes(include=[np.number]).columns.tolist()\n",
    "\n",
    "# Use .loc to avoid SettingWithCopyWarning when scaling numeric columns\n",
    "df_filtered.loc[:, numeric_cols] = scaler.fit_transform(\n",
    "    df_filtered[numeric_cols])\n"
   ]
  },
  {
   "cell_type": "code",
   "execution_count": 31,
   "metadata": {},
   "outputs": [
    {
     "data": {
      "text/plain": [
       "['temperature_celsius',\n",
       " 'wind_kph',\n",
       " 'wind_degree',\n",
       " 'pressure_mb',\n",
       " 'precip_mm',\n",
       " 'humidity',\n",
       " 'cloud',\n",
       " 'feels_like_celsius',\n",
       " 'visibility_km',\n",
       " 'uv_index',\n",
       " 'gust_kph',\n",
       " 'air_quality_us-epa-index',\n",
       " 'sunrise_num',\n",
       " 'sunset_num']"
      ]
     },
     "execution_count": 31,
     "metadata": {},
     "output_type": "execute_result"
    }
   ],
   "source": [
    "\n",
    "numeric_cols"
   ]
  },
  {
   "cell_type": "code",
   "execution_count": 32,
   "metadata": {},
   "outputs": [
    {
     "data": {
      "text/html": [
       "<div>\n",
       "<style scoped>\n",
       "    .dataframe tbody tr th:only-of-type {\n",
       "        vertical-align: middle;\n",
       "    }\n",
       "\n",
       "    .dataframe tbody tr th {\n",
       "        vertical-align: top;\n",
       "    }\n",
       "\n",
       "    .dataframe thead th {\n",
       "        text-align: right;\n",
       "    }\n",
       "</style>\n",
       "<table border=\"1\" class=\"dataframe\">\n",
       "  <thead>\n",
       "    <tr style=\"text-align: right;\">\n",
       "      <th></th>\n",
       "      <th>day_id</th>\n",
       "      <th>city_id</th>\n",
       "      <th>temperature_celsius</th>\n",
       "      <th>condition_text</th>\n",
       "      <th>wind_kph</th>\n",
       "      <th>wind_degree</th>\n",
       "      <th>pressure_mb</th>\n",
       "      <th>precip_mm</th>\n",
       "      <th>humidity</th>\n",
       "      <th>cloud</th>\n",
       "      <th>feels_like_celsius</th>\n",
       "      <th>visibility_km</th>\n",
       "      <th>uv_index</th>\n",
       "      <th>gust_kph</th>\n",
       "      <th>air_quality_us-epa-index</th>\n",
       "      <th>sunrise</th>\n",
       "      <th>sunset</th>\n",
       "      <th>sunrise_num</th>\n",
       "      <th>sunset_num</th>\n",
       "    </tr>\n",
       "  </thead>\n",
       "  <tbody>\n",
       "    <tr>\n",
       "      <th>2</th>\n",
       "      <td>D0003</td>\n",
       "      <td>C001</td>\n",
       "      <td>0.46875</td>\n",
       "      <td>Light Rain with Thunder</td>\n",
       "      <td>0.0</td>\n",
       "      <td>0.016854</td>\n",
       "      <td>0.470588</td>\n",
       "      <td>0.229592</td>\n",
       "      <td>1.0</td>\n",
       "      <td>0.75</td>\n",
       "      <td>0.371257</td>\n",
       "      <td>0.308176</td>\n",
       "      <td>0.0</td>\n",
       "      <td>0.187697</td>\n",
       "      <td>0.0</td>\n",
       "      <td>06:05 AM</td>\n",
       "      <td>07:18 PM</td>\n",
       "      <td>0.302469</td>\n",
       "      <td>0.527638</td>\n",
       "    </tr>\n",
       "  </tbody>\n",
       "</table>\n",
       "</div>"
      ],
      "text/plain": [
       "  day_id city_id  temperature_celsius           condition_text  wind_kph  \\\n",
       "2  D0003    C001              0.46875  Light Rain with Thunder       0.0   \n",
       "\n",
       "   wind_degree  pressure_mb  precip_mm  humidity  cloud  feels_like_celsius  \\\n",
       "2     0.016854     0.470588   0.229592       1.0   0.75            0.371257   \n",
       "\n",
       "   visibility_km  uv_index  gust_kph  air_quality_us-epa-index   sunrise  \\\n",
       "2       0.308176       0.0  0.187697                       0.0  06:05 AM   \n",
       "\n",
       "     sunset  sunrise_num  sunset_num  \n",
       "2  07:18 PM     0.302469    0.527638  "
      ]
     },
     "execution_count": 32,
     "metadata": {},
     "output_type": "execute_result"
    }
   ],
   "source": [
    "df_filtered.head(1)"
   ]
  },
  {
   "cell_type": "code",
   "execution_count": 33,
   "metadata": {},
   "outputs": [],
   "source": [
    "# Drop the specified columns\n",
    "df_filtered = df_filtered.drop(columns=['sunrise', 'sunset'])\n",
    "\n",
    "# Save the resulting DataFrame to a CSV file with a custom delimiter '-d'\n",
    "df_filtered.to_csv('./processed_data/filtered_data.csv', index=False)"
   ]
  },
  {
   "cell_type": "code",
   "execution_count": 34,
   "metadata": {},
   "outputs": [
    {
     "name": "stdout",
     "output_type": "stream",
     "text": [
      "condition_text\n",
      "Clear and Sunny            122\n",
      "Partly Cloudy              122\n",
      "Light Precipitation         68\n",
      "Cloudy and Overcast         53\n",
      "Mist or Fog                 50\n",
      "Rain Showers                21\n",
      "Light Rain with Thunder     16\n",
      "Thunderstorms               15\n",
      "Moderate to Heavy Rain      12\n",
      "Name: count, dtype: int64\n"
     ]
    }
   ],
   "source": [
    "print(df_filtered[\"condition_text\"].value_counts())"
   ]
  },
  {
   "cell_type": "code",
   "execution_count": 35,
   "metadata": {},
   "outputs": [
    {
     "name": "stdout",
     "output_type": "stream",
     "text": [
      "{'Light Rain with Thunder': 0, 'Clear and Sunny': 1, 'Partly Cloudy': 2, 'Light Precipitation': 3, 'Cloudy and Overcast': 4, 'Mist or Fog': 5, 'Rain Showers': 6, 'Moderate to Heavy Rain': 7, 'Thunderstorms': 8}\n"
     ]
    }
   ],
   "source": [
    "import json\n",
    "unique_values = df_filtered[\"condition_text\"].unique()\n",
    "\n",
    "unique_dict = {value: index for index, value in enumerate(unique_values)}\n",
    "print(unique_dict)\n",
    "\n",
    "with open('unique_dict.json', 'w') as file:\n",
    "    json.dump(unique_dict, file)"
   ]
  },
  {
   "cell_type": "code",
   "execution_count": 36,
   "metadata": {},
   "outputs": [],
   "source": [
    "df_filtered['condition_text'] = df_filtered['condition_text'].replace(unique_dict)"
   ]
  },
  {
   "cell_type": "code",
   "execution_count": 37,
   "metadata": {},
   "outputs": [],
   "source": [
    "df_filtered.to_csv('./processed_data/filtered_data_with_classes.csv', index=False)"
   ]
  },
  {
   "cell_type": "code",
   "execution_count": null,
   "metadata": {},
   "outputs": [],
   "source": []
  }
 ],
 "metadata": {
  "kernelspec": {
   "display_name": "Python 3",
   "language": "python",
   "name": "python3"
  },
  "language_info": {
   "codemirror_mode": {
    "name": "ipython",
    "version": 3
   },
   "file_extension": ".py",
   "mimetype": "text/x-python",
   "name": "python",
   "nbconvert_exporter": "python",
   "pygments_lexer": "ipython3",
   "version": "3.12.1"
  }
 },
 "nbformat": 4,
 "nbformat_minor": 2
}
